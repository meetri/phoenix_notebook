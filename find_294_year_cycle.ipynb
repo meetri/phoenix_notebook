{
 "cells": [
  {
   "cell_type": "markdown",
   "metadata": {},
   "source": [
    "### Load Dependencies"
   ]
  },
  {
   "cell_type": "code",
   "execution_count": 1,
   "metadata": {
    "execution": {
     "iopub.execute_input": "2024-10-20T04:27:38.031957Z",
     "iopub.status.busy": "2024-10-20T04:27:38.031564Z",
     "iopub.status.idle": "2024-10-20T04:27:39.022631Z",
     "shell.execute_reply": "2024-10-20T04:27:39.021301Z",
     "shell.execute_reply.started": "2024-10-20T04:27:38.031922Z"
    }
   },
   "outputs": [],
   "source": [
    "import swisseph as swe\n",
    "import pandas as pd\n",
    "import numpy as np\n",
    "\n",
    "import networkx as nx\n",
    "import matplotlib.pyplot as plt\n",
    "from scipy.signal import argrelextrema\n",
    "\n",
    "from calc import find_new_moon_conjunctions\n",
    "\n",
    "# configure ephemeris\n",
    "swe.set_ephe_path('./ephe')\n",
    "\n",
    "# https://ssd.jpl.nasa.gov/planets/eph_export.html\n",
    "# Created April 2013; includes librations and 1980 nutation.\n",
    "# Referred to the International Celestial Reference Frame  version 2.0.\n",
    "# Covers JED -3100015.5, (-13200 AUG 15) to JED 8000016.5,(17191 MAR 15).\n",
    "swe.set_jpl_file('DE431.eph')\n",
    "\n",
    "weekname = [\"mon\", \"tue\", \"wed\", \"thu\", \"fri\", \"sat\", \"sun\"]"
   ]
  },
  {
   "cell_type": "markdown",
   "metadata": {
    "execution": {
     "iopub.execute_input": "2024-10-20T02:21:54.659923Z",
     "iopub.status.busy": "2024-10-20T02:21:54.659560Z",
     "iopub.status.idle": "2024-10-20T02:21:54.663943Z",
     "shell.execute_reply": "2024-10-20T02:21:54.662843Z",
     "shell.execute_reply.started": "2024-10-20T02:21:54.659891Z"
    }
   },
   "source": [
    "### Configure Script"
   ]
  },
  {
   "cell_type": "code",
   "execution_count": 93,
   "metadata": {
    "execution": {
     "iopub.execute_input": "2024-10-20T04:49:47.834462Z",
     "iopub.status.busy": "2024-10-20T04:49:47.834150Z",
     "iopub.status.idle": "2024-10-20T04:49:47.838495Z",
     "shell.execute_reply": "2024-10-20T04:49:47.837131Z",
     "shell.execute_reply.started": "2024-10-20T04:49:47.834433Z"
    }
   },
   "outputs": [],
   "source": [
    "YEAR_START = -11084\n",
    "YEAR_START -= 12    # align 294 year cycle with our era\n",
    "YEAR_END = 10000\n",
    "# YEAR_START = 1000\n",
    "# YEAR_START = 2024\n",
    "# MY_GEO_LOC = [-122.258301, 37.801239, 13]  # Oakland, CA"
   ]
  },
  {
   "cell_type": "markdown",
   "metadata": {},
   "source": [
    "### Calculate Solar Equinox / Lunar Phase Dataset"
   ]
  },
  {
   "cell_type": "code",
   "execution_count": null,
   "metadata": {
    "execution": {
     "iopub.execute_input": "2024-10-20T04:49:49.374079Z",
     "iopub.status.busy": "2024-10-20T04:49:49.373804Z"
    }
   },
   "outputs": [],
   "source": [
    "# INITIALIZE VARIABLES\n",
    "nm = []\n",
    "first_eq = None\n",
    "prev_eq = None\n",
    "moon_year = 0\n",
    "moon_day = 0\n",
    "moon_total_days = 0\n",
    "total_lunar_year_days = 0\n",
    "\n",
    "# Get Equinox / New Moons for year prior tor YEAR_START\n",
    "eq = swe.solcross_ut(x2cross=0,tjdut=swe.julday(YEAR_START-1, 1, 1))\n",
    "next_eq = swe.solcross_ut(x2cross=0,tjdut=swe.julday(YEAR_START, 1, 1))\n",
    "last_nm = find_new_moon_conjunctions(swe, eq, next_eq)[-1]\n",
    "for jyear in range(YEAR_START, YEAR_END):\n",
    "    jd = swe.julday(jyear, 1, 1)\n",
    "    \n",
    "    # get vernal equinox for this year\n",
    "    eq = swe.solcross_ut(\n",
    "        x2cross=0,\n",
    "        tjdut=jd\n",
    "    )\n",
    "    \n",
    "    # get vernal equinox for next year\n",
    "    next_eq = swe.solcross_ut(\n",
    "        x2cross=0,\n",
    "        tjdut=swe.julday(jyear + 1, 1, 1)\n",
    "    )\n",
    "        \n",
    "    # save equinox for YEAR_START to maintain running day count\n",
    "    first_eq = eq if first_eq is None else first_eq\n",
    "\n",
    "    # get all new moons in the Lunar year ( all new moons between this and the next vernal equinox )\n",
    "    # you will get back either 12 or 13 months. \n",
    "    nm_conj = find_new_moon_conjunctions(swe, eq, next_eq)\n",
    "        \n",
    "    # Calculate the number of days in this lunar year by taking the difference\n",
    "    # between the last lunar month's new moon date from the first lunar months new moon date.\n",
    "    lunar_year_num_days = nm_conj[-1] - nm_conj[0]       \n",
    "    \n",
    "    eq_str = swe.revjul(eq, swe.GREG_CAL)\n",
    "    moon_year += 1  \n",
    "    for idx, m in enumerate(nm_conj):        \n",
    "        last_day_in_month = m - last_nm\n",
    "        \n",
    "        nm.append({\n",
    "            \"ve\": eq,     \n",
    "            \"ve_date\": f\"{eq_str[1]}/{eq_str[2]}/{eq_str[0]}\",\n",
    "            \"jd\": m,\n",
    "            \"nm_eq\": m - eq,\n",
    "            \"sun_year\": jyear,\n",
    "            \"lunar_year\": moon_year,            \n",
    "            \"lunar_month\": idx + 1,\n",
    "            \"lunar_days\": last_day_in_month,\n",
    "            \"total_days\": moon_total_days + last_day_in_month,\n",
    "            \"day_of_week\": swe.day_of_week(eq)            \n",
    "        })\n",
    "    moon_total_days += (nm_conj[-1] - last_nm)\n",
    "    last_nm = nm_conj[-1]\n",
    "\n",
    "nm_df = pd.DataFrame(nm)"
   ]
  },
  {
   "cell_type": "markdown",
   "metadata": {
    "execution": {
     "iopub.execute_input": "2024-10-20T02:44:08.679762Z",
     "iopub.status.busy": "2024-10-20T02:44:08.679463Z",
     "iopub.status.idle": "2024-10-20T02:44:08.684766Z",
     "shell.execute_reply": "2024-10-20T02:44:08.683530Z",
     "shell.execute_reply.started": "2024-10-20T02:44:08.679733Z"
    }
   },
   "source": [
    "### Find where both the sun and moon cycles reset that matches the 294 year cycle proposed by Enoch\n",
    "This is important in order to know what year in the 294 year cycle we are in.\n",
    "\n",
    "First we're going to overlay the dataset with a running 364 day year count and the 294 enoch year count."
   ]
  },
  {
   "cell_type": "code",
   "execution_count": null,
   "metadata": {},
   "outputs": [],
   "source": [
    "# Calculate Enoch 364 Day \n",
    "nm_df[\"eday\"] = np.floor(nm_df[\"total_days\"] % 364) + 1 \n",
    "\n",
    "# Calculate Enoch 294 Year\n",
    "nm_df[\"eyear\"] = (np.round((nm_df[\"total_days\"] / 364)) % 294) + 1\n",
    "nm_df[:13]"
   ]
  },
  {
   "cell_type": "markdown",
   "metadata": {},
   "source": [
    "### Next we want to examime the lunar cycle. \n",
    "Lets see if we can find a pattern looking at the distance of the first month in the lunar year \n",
    "and the start of the vernal equinox. Here we're going to calculate distance between the number of days between\n",
    "the date of vernal equinox and the date of the first new moon of the lunar year"
   ]
  },
  {
   "cell_type": "code",
   "execution_count": null,
   "metadata": {},
   "outputs": [],
   "source": [
    "nm_df[nm_df.lunar_month == 1][:150].plot(\"sun_year\", y=[\"nm_eq\"], figsize=[20, 5])"
   ]
  },
  {
   "cell_type": "markdown",
   "metadata": {},
   "source": [
    "### Finding the Lunar Minor cycle\n",
    "Looking at the above plot, you can see there are peaks and troughs where the distance between the new moon and the equinox ranges from 0 to 30. Lets see if we can pull out these troughs in this chart by marking in the dataset when these troughs occur."
   ]
  },
  {
   "cell_type": "code",
   "execution_count": null,
   "metadata": {},
   "outputs": [],
   "source": [
    "# Filter all rows where the lunar_month = 1 and closest to the vernal equinox. \n",
    "# (this will be used in defining the lunar cycle)\n",
    "mask = nm_df[\"lunar_month\"] == 1\n",
    "df = pd.DataFrame(nm_df[mask])\n",
    "ilocs_min = argrelextrema(df[\"nm_eq\"].values, np.less_equal)[0]  # [::9]\n",
    "\n",
    "# set the minor lunar cycle based on the above filter\n",
    "df.loc[df.iloc[ilocs_min].index, \"minor_lunar_cycle\"] = True\n",
    "df[df.minor_lunar_cycle == True][:5]"
   ]
  },
  {
   "cell_type": "markdown",
   "metadata": {
    "execution": {
     "iopub.execute_input": "2024-10-20T03:04:57.971426Z",
     "iopub.status.busy": "2024-10-20T03:04:57.970772Z",
     "iopub.status.idle": "2024-10-20T03:04:57.997298Z",
     "shell.execute_reply": "2024-10-20T03:04:57.996175Z",
     "shell.execute_reply.started": "2024-10-20T03:04:57.971375Z"
    }
   },
   "source": [
    "Looks like when considering only the dates where the new moon and equinox are the closest. A lunar minor cycle is discovered.\n",
    "Just like the lunar month can be 29 or 30 days or the lunar year 12 or 13 months. This minor cycle can be either 2 or 3 lunar years.\n",
    "\n",
    "To better visualize this, we're going to add a running day incrementor between all the points between each of the minor lunar cycles"
   ]
  },
  {
   "cell_type": "code",
   "execution_count": null,
   "metadata": {},
   "outputs": [],
   "source": [
    "mask = df[\"minor_lunar_cycle\"] == True\n",
    "nm2 = nm_df.merge(df[mask][[\"lunar_month\", \"lunar_year\", \"minor_lunar_cycle\"]], on=[\"lunar_month\", \"lunar_year\"], how=\"outer\")\n",
    "nm2['minor_lunar_cycle'] = nm2['minor_lunar_cycle'].fillna(False)\n",
    "\n",
    "nm2['group'] = nm2['minor_lunar_cycle'].cumsum()\n",
    "nm2['lunar_minor_cycle_year'] = nm2.groupby('group').cumcount() + 1\n",
    "nm2.loc[nm2['minor_lunar_cycle'], 'lunar_minor_cycle_year'] = 1\n",
    "nm2 = nm2.drop(columns=['group'])\n",
    "\n",
    "nm2[:800].plot(\"lunar_year\", y=[\"lunar_minor_cycle_year\"], figsize=[20, 5])"
   ]
  },
  {
   "cell_type": "markdown",
   "metadata": {
    "execution": {
     "iopub.execute_input": "2024-10-20T03:18:54.817716Z",
     "iopub.status.busy": "2024-10-20T03:18:54.817421Z",
     "iopub.status.idle": "2024-10-20T03:18:54.822543Z",
     "shell.execute_reply": "2024-10-20T03:18:54.821075Z",
     "shell.execute_reply.started": "2024-10-20T03:18:54.817690Z"
    }
   },
   "source": [
    "### Patterns Emerge\n",
    "Lets see what happens when we overlay the above chart with the 294 year cycle. We're going to zoom\n",
    "in so we can see if there are any alignments"
   ]
  },
  {
   "cell_type": "code",
   "execution_count": null,
   "metadata": {},
   "outputs": [],
   "source": [
    "df_filter = nm2[3200:4000]\n",
    "\n",
    "fig, ax = plt.subplots(figsize=(20, 5))\n",
    "ax2 = ax.twinx()\n",
    "\n",
    "ax.plot(df_filter[\"sun_year\"], df_filter[\"lunar_minor_cycle_year\"])\n",
    "ax2.plot(df_filter[\"sun_year\"], df_filter[\"eyear\"], color=\"orange\")"
   ]
  },
  {
   "cell_type": "markdown",
   "metadata": {
    "execution": {
     "iopub.execute_input": "2024-10-20T03:26:06.722512Z",
     "iopub.status.busy": "2024-10-20T03:26:06.722220Z",
     "iopub.status.idle": "2024-10-20T03:26:06.729174Z",
     "shell.execute_reply": "2024-10-20T03:26:06.727698Z",
     "shell.execute_reply.started": "2024-10-20T03:26:06.722485Z"
    }
   },
   "source": [
    "### Lunar Greater Cycle\n",
    "Amazingly enough it looks like this minor lunar cycle perfectly aligns with at least this first instance of the 294 year cycle.\n",
    "Notice how when the 294 year cycle reset, it reset exactly on one of the troughs of this lunar cycle.\n",
    "\n",
    "Lets take this a bit further, there is another lunar cycle hidden in here which I call the greater lunar cycle. This cycle is a cycle of either 32 or 33 lunar years"
   ]
  },
  {
   "cell_type": "code",
   "execution_count": null,
   "metadata": {},
   "outputs": [],
   "source": [
    "mask = df[\"minor_lunar_cycle\"] == True\n",
    "nm2 = nm_df.merge(df[mask][[\"lunar_month\", \"lunar_year\", \"minor_lunar_cycle\"]], on=[\"lunar_month\", \"lunar_year\"], how=\"outer\")\n",
    "nm2['minor_lunar_cycle'] = nm2['minor_lunar_cycle'].fillna(False)\n",
    "phoenix_cycle = nm2[nm2[\"minor_lunar_cycle\"] == True][::12].index\n",
    "nm2.loc[nm2.iloc[phoenix_cycle].index, \"new_phoenix_cycle\"] = True\n",
    "nm2['new_phoenix_cycle'] = nm2['new_phoenix_cycle'].fillna(False)\n",
    "\n",
    "nm2['group'] = nm2['new_phoenix_cycle'].cumsum()\n",
    "nm2['lunar_cycle_year'] = nm2.groupby('group').cumcount() + 1\n",
    "nm2.loc[nm2['new_phoenix_cycle'], 'lunar_cycle_year'] = 1\n",
    "\n",
    "nm2 = nm2.drop(columns=['group', 'new_phoenix_cycle', 'minor_lunar_cycle'])\n",
    "nm_df = nm2"
   ]
  },
  {
   "cell_type": "code",
   "execution_count": null,
   "metadata": {},
   "outputs": [],
   "source": [
    "df_filter = nm_df[nm_df.lunar_month == 1][0:1000]\n",
    "\n",
    "fig, ax = plt.subplots(figsize=(20, 5))\n",
    "ax2 = ax.twinx()\n",
    "\n",
    "ax.plot(df_filter[\"sun_year\"], df_filter[\"lunar_cycle_year\"])\n",
    "ax2.plot(df_filter[\"sun_year\"], df_filter[\"eyear\"], color=\"orange\")"
   ]
  },
  {
   "cell_type": "code",
   "execution_count": null,
   "metadata": {},
   "outputs": [],
   "source": [
    "nm_df[(nm_df.lunar_month == 1) & (nm_df.eyear == 1)]"
   ]
  },
  {
   "cell_type": "markdown",
   "metadata": {},
   "source": [
    "# Close but not the cigar\n",
    "So far it looks like we got it. An amazing coincidence or did our ancestors know a little something about astronomy.\n",
    "But let dig in to this a bit more. It's hard to see if the alignment is perfect because in the above chart we're looking at around 1000 years. Lets zoom in to right where the alignment occurs and see if it's perfect or not.\n"
   ]
  },
  {
   "cell_type": "code",
   "execution_count": null,
   "metadata": {},
   "outputs": [],
   "source": [
    "cycle = 43\n",
    "mult = 294\n",
    "st = 200 + mult * cycle\n",
    "df_filter = nm_df[nm_df.lunar_month == 1][st:st+100]\n",
    "\n",
    "# df_filter = nm_df[nm_df.lunar_month == 1][270:320]\n",
    "# df_filter = nm_df[nm_df.lunar_month == 1][570:620]\n",
    "# df_filter = nm_df[nm_df.lunar_month == 1][870:920]\n",
    "\n",
    "\n",
    "fig, ax = plt.subplots(figsize=(20, 5))\n",
    "ax2 = ax.twinx()\n",
    "\n",
    "ax.plot(df_filter[\"sun_year\"], df_filter[\"lunar_cycle_year\"])\n",
    "ax2.plot(df_filter[\"sun_year\"], df_filter[\"eyear\"], color=\"red\")"
   ]
  },
  {
   "cell_type": "code",
   "execution_count": null,
   "metadata": {},
   "outputs": [],
   "source": [
    "nm_df[nm_df.lunar_month == 1][st:st+30]"
   ]
  }
 ],
 "metadata": {
  "kernelspec": {
   "display_name": "Python 3",
   "language": "python",
   "name": "python3"
  },
  "language_info": {
   "codemirror_mode": {
    "name": "ipython",
    "version": 3
   },
   "file_extension": ".py",
   "mimetype": "text/x-python",
   "name": "python",
   "nbconvert_exporter": "python",
   "pygments_lexer": "ipython3",
   "version": "3.8.3"
  }
 },
 "nbformat": 4,
 "nbformat_minor": 4
}
